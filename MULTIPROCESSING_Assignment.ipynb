{
  "cells": [
    {
      "cell_type": "markdown",
      "id": "a6191aa4",
      "metadata": {
        "id": "a6191aa4"
      },
      "source": [
        "# Q1. What is multiprocessing in python? Why is it useful?\n"
      ]
    },
    {
      "cell_type": "markdown",
      "id": "cfd35e32",
      "metadata": {
        "id": "cfd35e32"
      },
      "source": [
        "\n",
        "`Multiprocessing in Python is a built-in package that allows the system to run multiple processes simultaneously. It will enable the breaking of applications into smaller threads that can run independently. The operating system can then allocate all these threads or processes to the processor to run them parallelly, thus improving the overall performance and efficiency.`\n",
        "\n",
        "\n",
        "\n",
        "\n",
        "- `Processes have their own memory space, which reduces the risk of data corruption and makes it easier to manage shared resources. Processes do not share memory by default, unlike threads, which share memory space.`\n",
        "\n",
        "\n",
        "- : `If a process encounters an error or crashes, it generally does not affect other processes. In multithreading, an error in one thread can potentially affect the entire process.`\n",
        "\n",
        "\n",
        "\n",
        "- `Multiprocessing can make better use of available CPU cores, allowing applications to scale more effectively and perform faster on modern multi-core machines.`"
      ]
    },
    {
      "cell_type": "code",
      "execution_count": null,
      "id": "95db469b",
      "metadata": {
        "id": "95db469b"
      },
      "outputs": [],
      "source": []
    },
    {
      "cell_type": "markdown",
      "id": "0188d86b",
      "metadata": {
        "id": "0188d86b"
      },
      "source": [
        "# Q2. What are the differences between multiprocessing and multithreading?"
      ]
    },
    {
      "cell_type": "markdown",
      "id": "4077ecff",
      "metadata": {
        "id": "4077ecff"
      },
      "source": [
        "- __In Multiprocessing, Many processes are executed simultaneously.__\n",
        "\n",
        "- __Multiprocessing are classified into Symmetric and Asymmetric__.\n",
        "\n",
        "- __In Multiprocessing, Process creation is a time-consuming process.__\n",
        "\n",
        "- __Multiprocessing requires a significant amount of time and large number of resources.__\n",
        "\n",
        "-  __Multiple processes are executed in a parallel fashion.__\n",
        "\n",
        "\n",
        "\n",
        "\n",
        "\n",
        "\n",
        "\n",
        "\n",
        "\n",
        "\n",
        "- `multithreading, many threads of a process are executed simultaneously`.\n",
        "\n",
        "-  `Multithreading is not classified in any categories.`\n",
        "\n",
        "-   `Multithreading, process creation is according to economical.`\n",
        "\n",
        "-  `Multithreading requires less time and few resources to create.`\n",
        "\n",
        "-  `Multiple threads are executed in a parallel fashion.`"
      ]
    },
    {
      "cell_type": "code",
      "execution_count": null,
      "id": "645d0580",
      "metadata": {
        "id": "645d0580"
      },
      "outputs": [],
      "source": []
    },
    {
      "cell_type": "markdown",
      "id": "ee441815",
      "metadata": {
        "id": "ee441815"
      },
      "source": [
        "# Q3. Write a python code to create a process using the multiprocessing module."
      ]
    },
    {
      "cell_type": "code",
      "execution_count": 1,
      "id": "ef64cefe",
      "metadata": {
        "colab": {
          "base_uri": "https://localhost:8080/"
        },
        "id": "ef64cefe",
        "outputId": "a797656f-ecd9-4719-d4b3-3cb504e253e5"
      },
      "outputs": [
        {
          "output_type": "stream",
          "name": "stdout",
          "text": [
            "this is my main prog\n",
            "this is my multiprocessing prog\n",
            "this is my multiprocessing prog\n"
          ]
        }
      ],
      "source": [
        "import multiprocessing\n",
        "\n",
        "def test():\n",
        "    print(\"this is my multiprocessing prog\")\n",
        "\n",
        "if __name__ == '__main__':         #(__main__ this is a dunder )\n",
        "    m = multiprocessing.Process(target=test)\n",
        "    print(\"this is my main prog\")\n",
        "    m.start()\n",
        "    m.join()\n",
        "    test()\n"
      ]
    },
    {
      "cell_type": "code",
      "execution_count": null,
      "id": "1048c0c1",
      "metadata": {
        "id": "1048c0c1"
      },
      "outputs": [],
      "source": []
    },
    {
      "cell_type": "markdown",
      "id": "2d004b20",
      "metadata": {
        "id": "2d004b20"
      },
      "source": [
        "# Q4. What is a multiprocessing pool in python? Why is it used?"
      ]
    },
    {
      "cell_type": "markdown",
      "id": "995f57f1",
      "metadata": {
        "id": "995f57f1"
      },
      "source": [
        "The Pool class in multiprocessing can handle an enormous number of processes. It allows you to run multiple jobs per process (due to its ability to queue the jobs). The memory is allocated only to the executing processes, unlike the Process class, which allocates memory to all the processes.\n",
        "\n",
        "\n",
        "\n",
        "\n",
        "\n",
        "__The Python Multiprocessing Pool class allows you to create and manage process pools in Python.__\n",
        "\n",
        "__Although the Multiprocessing Pool has been available in Python for a long time, it is not widely used, perhaps because of misunderstandings of the capabilities and limitations of Processes and Threads in Python__\n",
        "\n",
        "\n",
        "\n",
        "\n",
        "\n",
        "`It uses simple coding that's easy to understand.\n",
        "It helps you overcome global interpreter lock (GIL) limitations in CPython.\n",
        "Child processes can be interrupted.\n",
        "It completes tasks faster and analyzes large amounts of data.\n",
        "It uses multiple CPUs to improve a system's overall power.\n",
        "It removes synchronization primitives.\n",
        "It's more cost-effective than single processor systems.`"
      ]
    },
    {
      "cell_type": "code",
      "execution_count": 1,
      "id": "57127618",
      "metadata": {
        "id": "57127618"
      },
      "outputs": [],
      "source": []
    },
    {
      "cell_type": "code",
      "execution_count": 1,
      "id": "1cfb71b8",
      "metadata": {
        "id": "1cfb71b8"
      },
      "outputs": [],
      "source": []
    },
    {
      "cell_type": "markdown",
      "id": "ae675908",
      "metadata": {
        "id": "ae675908"
      },
      "source": [
        "# 5. How can we create a pool of worker processes in python using the multiprocessing module?"
      ]
    },
    {
      "cell_type": "markdown",
      "id": "b9c6232b",
      "metadata": {
        "id": "b9c6232b"
      },
      "source": [
        "The multiprocessing module's Pool class. Here's a step-by-step guide on how to do it:\n",
        "\n",
        "At first:------------------------\n",
        "import the multiprocessing Module:\n",
        "\n",
        "\n",
        "Define a Worker Function:\n",
        "Define the function that each worker process will execute. This function should take the task-specific arguments and return the result.\n",
        "\n",
        "Create a Pool:\n",
        "Initialize an instance of the Pool class by specifying the number of worker processes you want to include in the pool.\n",
        "\n",
        "Submit Tasks to the Pool:\n",
        "Use the pool's methods (apply(), map(), etc.) to submit tasks to the pool. These tasks will be distributed among the worker processes.\n",
        "\n",
        "Retrieve Results:\n",
        "Depending on the method used to submit tasks, retrieve the results from the pool once the tasks are completed.\n",
        "\n",
        "Close and Join the Pool:\n",
        "After submitting all tasks, close the pool using the close() method to prevent new tasks from being submitted. Then, use the join() method to wait for all worker processes to finish.\n",
        "\n",
        "Clean Up:\n",
        "After the pool is closed and joined, you can perform any necessary cleanup tasks.\n",
        "\n",
        "Here's an example of creating a pool of worker..."
      ]
    },
    {
      "cell_type": "code",
      "execution_count": 2,
      "id": "7360049e",
      "metadata": {
        "colab": {
          "base_uri": "https://localhost:8080/"
        },
        "id": "7360049e",
        "outputId": "85477cfa-c1dd-43bf-f5f3-7eea71800d9c"
      },
      "outputs": [
        {
          "output_type": "stream",
          "name": "stdout",
          "text": [
            "Result from worker 0\n",
            "Result from worker 1\n",
            "Result from worker 2\n"
          ]
        }
      ],
      "source": [
        "import multiprocessing\n",
        "\n",
        "def worker_function(num):\n",
        "    return f\"Result from worker {num}\"\n",
        "\n",
        "if __name__ == \"__main__\":\n",
        "    num_processes = 3\n",
        "    pool = multiprocessing.Pool(processes=num_processes)\n",
        "\n",
        "    results = pool.map(worker_function, range(num_processes))\n",
        "\n",
        "    pool.close()\n",
        "    pool.join()\n",
        "\n",
        "    for result in results:\n",
        "        print(result)\n",
        "\n"
      ]
    },
    {
      "cell_type": "code",
      "execution_count": 2,
      "id": "8dec30c4",
      "metadata": {
        "id": "8dec30c4"
      },
      "outputs": [],
      "source": []
    },
    {
      "cell_type": "code",
      "execution_count": 2,
      "id": "78be0294",
      "metadata": {
        "id": "78be0294"
      },
      "outputs": [],
      "source": []
    },
    {
      "cell_type": "markdown",
      "id": "7cd3d32a",
      "metadata": {
        "id": "7cd3d32a"
      },
      "source": [
        "# Q6. Write a python program to create 4 processes, each process should print a different number using the multiprocessing module in python."
      ]
    },
    {
      "cell_type": "code",
      "execution_count": 5,
      "id": "d4d849bd",
      "metadata": {
        "colab": {
          "base_uri": "https://localhost:8080/"
        },
        "id": "d4d849bd",
        "outputId": "92417fb1-8ca2-4255-fd62-38629ad9f824"
      },
      "outputs": [
        {
          "output_type": "stream",
          "name": "stdout",
          "text": [
            "ProcessProcess Process Process-13  Process-14prints:Process-15  Process prints:prints: 0  Process-162\n",
            "\n",
            "1\n",
            " prints: 3\n",
            "All processes have finished\n"
          ]
        }
      ],
      "source": [
        "import multiprocessing\n",
        "\n",
        "def print_number(number):\n",
        "    print(\"Process\", multiprocessing.current_process().name, \"prints:\", number)\n",
        "\n",
        "if __name__ == \"__main__\":\n",
        "    processes = []\n",
        "\n",
        "    for i in range(4):\n",
        "        process = multiprocessing.Process(target=print_number, args=(i,))\n",
        "        processes.append(process)\n",
        "        process.start()\n",
        "\n",
        "    for process in processes:\n",
        "        process.join()\n",
        "\n",
        "    print(\"All processes have finished\")\n"
      ]
    },
    {
      "cell_type": "code",
      "execution_count": 4,
      "id": "cf30a594",
      "metadata": {
        "id": "cf30a594"
      },
      "outputs": [],
      "source": []
    },
    {
      "cell_type": "code",
      "execution_count": null,
      "id": "a4f16fac",
      "metadata": {
        "id": "a4f16fac"
      },
      "outputs": [],
      "source": []
    },
    {
      "cell_type": "code",
      "execution_count": null,
      "id": "33f11f27",
      "metadata": {
        "id": "33f11f27"
      },
      "outputs": [],
      "source": [
        "\n",
        "\n",
        "Q5\n",
        "\n",
        "\n"
      ]
    },
    {
      "cell_type": "code",
      "execution_count": null,
      "id": "cda5a65a",
      "metadata": {
        "id": "cda5a65a"
      },
      "outputs": [],
      "source": []
    },
    {
      "cell_type": "code",
      "execution_count": null,
      "id": "1210ab01",
      "metadata": {
        "id": "1210ab01"
      },
      "outputs": [],
      "source": []
    },
    {
      "cell_type": "code",
      "execution_count": null,
      "id": "4f9a0f25",
      "metadata": {
        "id": "4f9a0f25"
      },
      "outputs": [],
      "source": []
    },
    {
      "cell_type": "code",
      "execution_count": null,
      "id": "0a0c080d",
      "metadata": {
        "id": "0a0c080d"
      },
      "outputs": [],
      "source": []
    },
    {
      "cell_type": "code",
      "execution_count": null,
      "id": "cd44ffd0",
      "metadata": {
        "id": "cd44ffd0"
      },
      "outputs": [],
      "source": []
    },
    {
      "cell_type": "code",
      "execution_count": null,
      "id": "1323d9d7",
      "metadata": {
        "id": "1323d9d7"
      },
      "outputs": [],
      "source": [
        "\n",
        "It uses simple coding that's easy to understand.\n",
        "It helps you overcome global interpreter lock (GIL) limitations in CPython.\n",
        "Child processes can be interrupted.\n",
        "It completes tasks faster and analyzes large amounts of data.\n",
        "It uses multiple CPUs to improve a system's overall power.\n",
        "It removes synchronization primitives.\n",
        "It's more cost-effective than single processor systems."
      ]
    },
    {
      "cell_type": "code",
      "execution_count": null,
      "id": "7ab68791",
      "metadata": {
        "id": "7ab68791"
      },
      "outputs": [],
      "source": []
    },
    {
      "cell_type": "code",
      "execution_count": null,
      "id": "0249ab2a",
      "metadata": {
        "id": "0249ab2a"
      },
      "outputs": [],
      "source": []
    },
    {
      "cell_type": "code",
      "execution_count": null,
      "id": "fbfecb90",
      "metadata": {
        "id": "fbfecb90"
      },
      "outputs": [],
      "source": []
    },
    {
      "cell_type": "code",
      "execution_count": null,
      "id": "a30bbfb7",
      "metadata": {
        "id": "a30bbfb7"
      },
      "outputs": [],
      "source": []
    }
  ],
  "metadata": {
    "kernelspec": {
      "display_name": "Python 3 (ipykernel)",
      "language": "python",
      "name": "python3"
    },
    "language_info": {
      "codemirror_mode": {
        "name": "ipython",
        "version": 3
      },
      "file_extension": ".py",
      "mimetype": "text/x-python",
      "name": "python",
      "nbconvert_exporter": "python",
      "pygments_lexer": "ipython3",
      "version": "3.9.12"
    },
    "colab": {
      "provenance": []
    }
  },
  "nbformat": 4,
  "nbformat_minor": 5
}